{
 "cells": [
  {
   "cell_type": "code",
   "execution_count": 1,
   "id": "initial_id",
   "metadata": {
    "collapsed": true,
    "ExecuteTime": {
     "end_time": "2024-06-07T14:04:24.918471Z",
     "start_time": "2024-06-07T14:04:24.594674500Z"
    }
   },
   "outputs": [],
   "source": [
    "import pandas as pd\n",
    "import numpy as np"
   ]
  },
  {
   "cell_type": "code",
   "execution_count": 6,
   "outputs": [
    {
     "name": "stderr",
     "output_type": "stream",
     "text": [
      "C:\\Users\\bujowskis\\AppData\\Local\\Temp\\ipykernel_24056\\1134886502.py:1: DtypeWarning: Columns (3) have mixed types. Specify dtype option on import or set low_memory=False.\n",
      "  df = pd.read_csv('books.csv', sep=';', encoding='latin-1', on_bad_lines='skip')\n"
     ]
    },
    {
     "data": {
      "text/plain": "         ISBN                                         Book-Title  \\\n0  0195153448                                Classical Mythology   \n1  0002005018                                       Clara Callan   \n2  0060973129                               Decision in Normandy   \n3  0374157065  Flu: The Story of the Great Influenza Pandemic...   \n4  0393045218                             The Mummies of Urumchi   \n\n            Book-Author Year-Of-Publication                   Publisher  \\\n0    Mark P. O. Morford                2002     Oxford University Press   \n1  Richard Bruce Wright                2001       HarperFlamingo Canada   \n2          Carlo D'Este                1991             HarperPerennial   \n3      Gina Bari Kolata                1999        Farrar Straus Giroux   \n4       E. J. W. Barber                1999  W. W. Norton &amp; Company   \n\n                                         Image-URL-S  \\\n0  http://images.amazon.com/images/P/0195153448.0...   \n1  http://images.amazon.com/images/P/0002005018.0...   \n2  http://images.amazon.com/images/P/0060973129.0...   \n3  http://images.amazon.com/images/P/0374157065.0...   \n4  http://images.amazon.com/images/P/0393045218.0...   \n\n                                         Image-URL-M  \\\n0  http://images.amazon.com/images/P/0195153448.0...   \n1  http://images.amazon.com/images/P/0002005018.0...   \n2  http://images.amazon.com/images/P/0060973129.0...   \n3  http://images.amazon.com/images/P/0374157065.0...   \n4  http://images.amazon.com/images/P/0393045218.0...   \n\n                                         Image-URL-L  \n0  http://images.amazon.com/images/P/0195153448.0...  \n1  http://images.amazon.com/images/P/0002005018.0...  \n2  http://images.amazon.com/images/P/0060973129.0...  \n3  http://images.amazon.com/images/P/0374157065.0...  \n4  http://images.amazon.com/images/P/0393045218.0...  ",
      "text/html": "<div>\n<style scoped>\n    .dataframe tbody tr th:only-of-type {\n        vertical-align: middle;\n    }\n\n    .dataframe tbody tr th {\n        vertical-align: top;\n    }\n\n    .dataframe thead th {\n        text-align: right;\n    }\n</style>\n<table border=\"1\" class=\"dataframe\">\n  <thead>\n    <tr style=\"text-align: right;\">\n      <th></th>\n      <th>ISBN</th>\n      <th>Book-Title</th>\n      <th>Book-Author</th>\n      <th>Year-Of-Publication</th>\n      <th>Publisher</th>\n      <th>Image-URL-S</th>\n      <th>Image-URL-M</th>\n      <th>Image-URL-L</th>\n    </tr>\n  </thead>\n  <tbody>\n    <tr>\n      <th>0</th>\n      <td>0195153448</td>\n      <td>Classical Mythology</td>\n      <td>Mark P. O. Morford</td>\n      <td>2002</td>\n      <td>Oxford University Press</td>\n      <td>http://images.amazon.com/images/P/0195153448.0...</td>\n      <td>http://images.amazon.com/images/P/0195153448.0...</td>\n      <td>http://images.amazon.com/images/P/0195153448.0...</td>\n    </tr>\n    <tr>\n      <th>1</th>\n      <td>0002005018</td>\n      <td>Clara Callan</td>\n      <td>Richard Bruce Wright</td>\n      <td>2001</td>\n      <td>HarperFlamingo Canada</td>\n      <td>http://images.amazon.com/images/P/0002005018.0...</td>\n      <td>http://images.amazon.com/images/P/0002005018.0...</td>\n      <td>http://images.amazon.com/images/P/0002005018.0...</td>\n    </tr>\n    <tr>\n      <th>2</th>\n      <td>0060973129</td>\n      <td>Decision in Normandy</td>\n      <td>Carlo D'Este</td>\n      <td>1991</td>\n      <td>HarperPerennial</td>\n      <td>http://images.amazon.com/images/P/0060973129.0...</td>\n      <td>http://images.amazon.com/images/P/0060973129.0...</td>\n      <td>http://images.amazon.com/images/P/0060973129.0...</td>\n    </tr>\n    <tr>\n      <th>3</th>\n      <td>0374157065</td>\n      <td>Flu: The Story of the Great Influenza Pandemic...</td>\n      <td>Gina Bari Kolata</td>\n      <td>1999</td>\n      <td>Farrar Straus Giroux</td>\n      <td>http://images.amazon.com/images/P/0374157065.0...</td>\n      <td>http://images.amazon.com/images/P/0374157065.0...</td>\n      <td>http://images.amazon.com/images/P/0374157065.0...</td>\n    </tr>\n    <tr>\n      <th>4</th>\n      <td>0393045218</td>\n      <td>The Mummies of Urumchi</td>\n      <td>E. J. W. Barber</td>\n      <td>1999</td>\n      <td>W. W. Norton &amp;amp; Company</td>\n      <td>http://images.amazon.com/images/P/0393045218.0...</td>\n      <td>http://images.amazon.com/images/P/0393045218.0...</td>\n      <td>http://images.amazon.com/images/P/0393045218.0...</td>\n    </tr>\n  </tbody>\n</table>\n</div>"
     },
     "execution_count": 6,
     "metadata": {},
     "output_type": "execute_result"
    }
   ],
   "source": [
    "df = pd.read_csv('books.csv', sep=';', encoding='latin-1', on_bad_lines='skip')\n",
    "df.head()"
   ],
   "metadata": {
    "collapsed": false,
    "ExecuteTime": {
     "end_time": "2024-06-07T14:08:33.319493700Z",
     "start_time": "2024-06-07T14:08:32.183375600Z"
    }
   },
   "id": "12d93ee8920963e1"
  },
  {
   "cell_type": "code",
   "execution_count": 7,
   "outputs": [
    {
     "data": {
      "text/plain": "Index(['ISBN', 'Book-Title', 'Book-Author', 'Year-Of-Publication', 'Publisher',\n       'Image-URL-S', 'Image-URL-M', 'Image-URL-L'],\n      dtype='object')"
     },
     "execution_count": 7,
     "metadata": {},
     "output_type": "execute_result"
    }
   ],
   "source": [
    "df.columns"
   ],
   "metadata": {
    "collapsed": false,
    "ExecuteTime": {
     "end_time": "2024-06-07T14:11:49.376118200Z",
     "start_time": "2024-06-07T14:11:49.347540300Z"
    }
   },
   "id": "13678321fd1140af"
  },
  {
   "cell_type": "code",
   "execution_count": 9,
   "outputs": [
    {
     "data": {
      "text/plain": "         ISBN                                         Book-Title  \\\n0  0195153448                                Classical Mythology   \n1  0002005018                                       Clara Callan   \n2  0060973129                               Decision in Normandy   \n3  0374157065  Flu: The Story of the Great Influenza Pandemic...   \n4  0393045218                             The Mummies of Urumchi   \n\n            Book-Author Year-Of-Publication                   Publisher  \n0    Mark P. O. Morford                2002     Oxford University Press  \n1  Richard Bruce Wright                2001       HarperFlamingo Canada  \n2          Carlo D'Este                1991             HarperPerennial  \n3      Gina Bari Kolata                1999        Farrar Straus Giroux  \n4       E. J. W. Barber                1999  W. W. Norton &amp; Company  ",
      "text/html": "<div>\n<style scoped>\n    .dataframe tbody tr th:only-of-type {\n        vertical-align: middle;\n    }\n\n    .dataframe tbody tr th {\n        vertical-align: top;\n    }\n\n    .dataframe thead th {\n        text-align: right;\n    }\n</style>\n<table border=\"1\" class=\"dataframe\">\n  <thead>\n    <tr style=\"text-align: right;\">\n      <th></th>\n      <th>ISBN</th>\n      <th>Book-Title</th>\n      <th>Book-Author</th>\n      <th>Year-Of-Publication</th>\n      <th>Publisher</th>\n    </tr>\n  </thead>\n  <tbody>\n    <tr>\n      <th>0</th>\n      <td>0195153448</td>\n      <td>Classical Mythology</td>\n      <td>Mark P. O. Morford</td>\n      <td>2002</td>\n      <td>Oxford University Press</td>\n    </tr>\n    <tr>\n      <th>1</th>\n      <td>0002005018</td>\n      <td>Clara Callan</td>\n      <td>Richard Bruce Wright</td>\n      <td>2001</td>\n      <td>HarperFlamingo Canada</td>\n    </tr>\n    <tr>\n      <th>2</th>\n      <td>0060973129</td>\n      <td>Decision in Normandy</td>\n      <td>Carlo D'Este</td>\n      <td>1991</td>\n      <td>HarperPerennial</td>\n    </tr>\n    <tr>\n      <th>3</th>\n      <td>0374157065</td>\n      <td>Flu: The Story of the Great Influenza Pandemic...</td>\n      <td>Gina Bari Kolata</td>\n      <td>1999</td>\n      <td>Farrar Straus Giroux</td>\n    </tr>\n    <tr>\n      <th>4</th>\n      <td>0393045218</td>\n      <td>The Mummies of Urumchi</td>\n      <td>E. J. W. Barber</td>\n      <td>1999</td>\n      <td>W. W. Norton &amp;amp; Company</td>\n    </tr>\n  </tbody>\n</table>\n</div>"
     },
     "execution_count": 9,
     "metadata": {},
     "output_type": "execute_result"
    }
   ],
   "source": [
    "df.drop(columns=['Image-URL-S', 'Image-URL-M', 'Image-URL-L'], inplace=True)\n",
    "df.head()"
   ],
   "metadata": {
    "collapsed": false,
    "ExecuteTime": {
     "end_time": "2024-06-07T14:12:28.035361500Z",
     "start_time": "2024-06-07T14:12:28.005022600Z"
    }
   },
   "id": "41d98c121d321475"
  },
  {
   "cell_type": "code",
   "execution_count": 10,
   "outputs": [
    {
     "name": "stdout",
     "output_type": "stream",
     "text": [
      "<class 'pandas.core.frame.DataFrame'>\n",
      "RangeIndex: 271360 entries, 0 to 271359\n",
      "Data columns (total 5 columns):\n",
      " #   Column               Non-Null Count   Dtype \n",
      "---  ------               --------------   ----- \n",
      " 0   ISBN                 271360 non-null  object\n",
      " 1   Book-Title           271360 non-null  object\n",
      " 2   Book-Author          271358 non-null  object\n",
      " 3   Year-Of-Publication  271360 non-null  object\n",
      " 4   Publisher            271358 non-null  object\n",
      "dtypes: object(5)\n",
      "memory usage: 10.4+ MB\n"
     ]
    }
   ],
   "source": [
    "df.info()"
   ],
   "metadata": {
    "collapsed": false,
    "ExecuteTime": {
     "end_time": "2024-06-07T18:49:09.978221900Z",
     "start_time": "2024-06-07T18:49:09.940116300Z"
    }
   },
   "id": "c318a3c229d201f5"
  },
  {
   "cell_type": "code",
   "execution_count": 11,
   "outputs": [
    {
     "name": "stdout",
     "output_type": "stream",
     "text": [
      "<class 'pandas.core.frame.DataFrame'>\n",
      "Index: 271356 entries, 0 to 271359\n",
      "Data columns (total 5 columns):\n",
      " #   Column               Non-Null Count   Dtype \n",
      "---  ------               --------------   ----- \n",
      " 0   ISBN                 271356 non-null  object\n",
      " 1   Book-Title           271356 non-null  object\n",
      " 2   Book-Author          271356 non-null  object\n",
      " 3   Year-Of-Publication  271356 non-null  object\n",
      " 4   Publisher            271356 non-null  object\n",
      "dtypes: object(5)\n",
      "memory usage: 12.4+ MB\n"
     ]
    }
   ],
   "source": [
    "df.dropna(inplace=True)\n",
    "df.info()"
   ],
   "metadata": {
    "collapsed": false,
    "ExecuteTime": {
     "end_time": "2024-06-07T18:49:30.355220100Z",
     "start_time": "2024-06-07T18:49:30.253672400Z"
    }
   },
   "id": "2365aaa24885ce7d"
  },
  {
   "cell_type": "code",
   "execution_count": 12,
   "outputs": [
    {
     "name": "stdout",
     "output_type": "stream",
     "text": [
      "<class 'pandas.core.frame.DataFrame'>\n",
      "RangeIndex: 271356 entries, 0 to 271355\n",
      "Data columns (total 6 columns):\n",
      " #   Column               Non-Null Count   Dtype \n",
      "---  ------               --------------   ----- \n",
      " 0   index                271356 non-null  int64 \n",
      " 1   ISBN                 271356 non-null  object\n",
      " 2   Book-Title           271356 non-null  object\n",
      " 3   Book-Author          271356 non-null  object\n",
      " 4   Year-Of-Publication  271356 non-null  object\n",
      " 5   Publisher            271356 non-null  object\n",
      "dtypes: int64(1), object(5)\n",
      "memory usage: 12.4+ MB\n"
     ]
    }
   ],
   "source": [
    "df.reset_index(inplace=True)\n",
    "df.info()"
   ],
   "metadata": {
    "collapsed": false,
    "ExecuteTime": {
     "end_time": "2024-06-07T18:50:16.324502500Z",
     "start_time": "2024-06-07T18:50:16.275681700Z"
    }
   },
   "id": "abd078ee4f61087e"
  },
  {
   "cell_type": "code",
   "execution_count": 13,
   "outputs": [
    {
     "data": {
      "text/plain": "   index        ISBN                                         Book-Title  \\\n0      0  0195153448                                Classical Mythology   \n1      1  0002005018                                       Clara Callan   \n2      2  0060973129                               Decision in Normandy   \n3      3  0374157065  Flu: The Story of the Great Influenza Pandemic...   \n4      4  0393045218                             The Mummies of Urumchi   \n5      5  0399135782                             The Kitchen God's Wife   \n6      6  0425176428  What If?: The World's Foremost Military Histor...   \n7      7  0671870432                                    PLEADING GUILTY   \n8      8  0679425608  Under the Black Flag: The Romance and the Real...   \n9      9  074322678X            Where You'll Find Me: And Other Stories   \n\n            Book-Author Year-Of-Publication                   Publisher  \\\n0    Mark P. O. Morford                2002     Oxford University Press   \n1  Richard Bruce Wright                2001       HarperFlamingo Canada   \n2          Carlo D'Este                1991             HarperPerennial   \n3      Gina Bari Kolata                1999        Farrar Straus Giroux   \n4       E. J. W. Barber                1999  W. W. Norton &amp; Company   \n5               Amy Tan                1991            Putnam Pub Group   \n6         Robert Cowley                2000    Berkley Publishing Group   \n7           Scott Turow                1993                  Audioworks   \n8       David Cordingly                1996                Random House   \n9           Ann Beattie                2002                    Scribner   \n\n   borrower_id  \n0           -1  \n1         6115  \n2           -1  \n3         4277  \n4         1786  \n5         6859  \n6           -1  \n7           -1  \n8         5950  \n9         1726  ",
      "text/html": "<div>\n<style scoped>\n    .dataframe tbody tr th:only-of-type {\n        vertical-align: middle;\n    }\n\n    .dataframe tbody tr th {\n        vertical-align: top;\n    }\n\n    .dataframe thead th {\n        text-align: right;\n    }\n</style>\n<table border=\"1\" class=\"dataframe\">\n  <thead>\n    <tr style=\"text-align: right;\">\n      <th></th>\n      <th>index</th>\n      <th>ISBN</th>\n      <th>Book-Title</th>\n      <th>Book-Author</th>\n      <th>Year-Of-Publication</th>\n      <th>Publisher</th>\n      <th>borrower_id</th>\n    </tr>\n  </thead>\n  <tbody>\n    <tr>\n      <th>0</th>\n      <td>0</td>\n      <td>0195153448</td>\n      <td>Classical Mythology</td>\n      <td>Mark P. O. Morford</td>\n      <td>2002</td>\n      <td>Oxford University Press</td>\n      <td>-1</td>\n    </tr>\n    <tr>\n      <th>1</th>\n      <td>1</td>\n      <td>0002005018</td>\n      <td>Clara Callan</td>\n      <td>Richard Bruce Wright</td>\n      <td>2001</td>\n      <td>HarperFlamingo Canada</td>\n      <td>6115</td>\n    </tr>\n    <tr>\n      <th>2</th>\n      <td>2</td>\n      <td>0060973129</td>\n      <td>Decision in Normandy</td>\n      <td>Carlo D'Este</td>\n      <td>1991</td>\n      <td>HarperPerennial</td>\n      <td>-1</td>\n    </tr>\n    <tr>\n      <th>3</th>\n      <td>3</td>\n      <td>0374157065</td>\n      <td>Flu: The Story of the Great Influenza Pandemic...</td>\n      <td>Gina Bari Kolata</td>\n      <td>1999</td>\n      <td>Farrar Straus Giroux</td>\n      <td>4277</td>\n    </tr>\n    <tr>\n      <th>4</th>\n      <td>4</td>\n      <td>0393045218</td>\n      <td>The Mummies of Urumchi</td>\n      <td>E. J. W. Barber</td>\n      <td>1999</td>\n      <td>W. W. Norton &amp;amp; Company</td>\n      <td>1786</td>\n    </tr>\n    <tr>\n      <th>5</th>\n      <td>5</td>\n      <td>0399135782</td>\n      <td>The Kitchen God's Wife</td>\n      <td>Amy Tan</td>\n      <td>1991</td>\n      <td>Putnam Pub Group</td>\n      <td>6859</td>\n    </tr>\n    <tr>\n      <th>6</th>\n      <td>6</td>\n      <td>0425176428</td>\n      <td>What If?: The World's Foremost Military Histor...</td>\n      <td>Robert Cowley</td>\n      <td>2000</td>\n      <td>Berkley Publishing Group</td>\n      <td>-1</td>\n    </tr>\n    <tr>\n      <th>7</th>\n      <td>7</td>\n      <td>0671870432</td>\n      <td>PLEADING GUILTY</td>\n      <td>Scott Turow</td>\n      <td>1993</td>\n      <td>Audioworks</td>\n      <td>-1</td>\n    </tr>\n    <tr>\n      <th>8</th>\n      <td>8</td>\n      <td>0679425608</td>\n      <td>Under the Black Flag: The Romance and the Real...</td>\n      <td>David Cordingly</td>\n      <td>1996</td>\n      <td>Random House</td>\n      <td>5950</td>\n    </tr>\n    <tr>\n      <th>9</th>\n      <td>9</td>\n      <td>074322678X</td>\n      <td>Where You'll Find Me: And Other Stories</td>\n      <td>Ann Beattie</td>\n      <td>2002</td>\n      <td>Scribner</td>\n      <td>1726</td>\n    </tr>\n  </tbody>\n</table>\n</div>"
     },
     "execution_count": 13,
     "metadata": {},
     "output_type": "execute_result"
    }
   ],
   "source": [
    "# randomize if book is borrowed\n",
    "#   -1  -> not borrowed\n",
    "#   uid -> borrowed\n",
    "df['borrower_id'] = -1\n",
    "\n",
    "borrowed_books_number = int(len(df) * 0.5)\n",
    "borrowed_books_idxs = np.random.choice(df.index, size=borrowed_books_number)\n",
    "df.loc[borrowed_books_idxs, 'borrower_id'] = np.random.randint(1, 10_000, size=borrowed_books_number)\n",
    "\n",
    "df.head(10)"
   ],
   "metadata": {
    "collapsed": false,
    "ExecuteTime": {
     "end_time": "2024-06-08T20:04:06.946411100Z",
     "start_time": "2024-06-08T20:04:06.896237600Z"
    }
   },
   "id": "d2a7c034f818a47f"
  },
  {
   "cell_type": "code",
   "execution_count": 17,
   "outputs": [
    {
     "data": {
      "text/plain": "Index(['index', 'ISBN', 'Book-Title', 'Book-Author', 'Year-Of-Publication',\n       'Publisher', 'borrower_id'],\n      dtype='object')"
     },
     "execution_count": 17,
     "metadata": {},
     "output_type": "execute_result"
    }
   ],
   "source": [
    "df.columns"
   ],
   "metadata": {
    "collapsed": false,
    "ExecuteTime": {
     "end_time": "2024-06-08T20:08:24.037284100Z",
     "start_time": "2024-06-08T20:08:24.021195500Z"
    }
   },
   "id": "c67f873476339924"
  },
  {
   "cell_type": "code",
   "execution_count": 18,
   "outputs": [
    {
     "data": {
      "text/plain": "         ISBN                                         Book-Title  \\\n0  0195153448                                Classical Mythology   \n1  0002005018                                       Clara Callan   \n2  0060973129                               Decision in Normandy   \n3  0374157065  Flu: The Story of the Great Influenza Pandemic...   \n4  0393045218                             The Mummies of Urumchi   \n\n            Book-Author Year-Of-Publication                   Publisher  \\\n0    Mark P. O. Morford                2002     Oxford University Press   \n1  Richard Bruce Wright                2001       HarperFlamingo Canada   \n2          Carlo D'Este                1991             HarperPerennial   \n3      Gina Bari Kolata                1999        Farrar Straus Giroux   \n4       E. J. W. Barber                1999  W. W. Norton &amp; Company   \n\n   borrower_id  \n0           -1  \n1         6115  \n2           -1  \n3         4277  \n4         1786  ",
      "text/html": "<div>\n<style scoped>\n    .dataframe tbody tr th:only-of-type {\n        vertical-align: middle;\n    }\n\n    .dataframe tbody tr th {\n        vertical-align: top;\n    }\n\n    .dataframe thead th {\n        text-align: right;\n    }\n</style>\n<table border=\"1\" class=\"dataframe\">\n  <thead>\n    <tr style=\"text-align: right;\">\n      <th></th>\n      <th>ISBN</th>\n      <th>Book-Title</th>\n      <th>Book-Author</th>\n      <th>Year-Of-Publication</th>\n      <th>Publisher</th>\n      <th>borrower_id</th>\n    </tr>\n  </thead>\n  <tbody>\n    <tr>\n      <th>0</th>\n      <td>0195153448</td>\n      <td>Classical Mythology</td>\n      <td>Mark P. O. Morford</td>\n      <td>2002</td>\n      <td>Oxford University Press</td>\n      <td>-1</td>\n    </tr>\n    <tr>\n      <th>1</th>\n      <td>0002005018</td>\n      <td>Clara Callan</td>\n      <td>Richard Bruce Wright</td>\n      <td>2001</td>\n      <td>HarperFlamingo Canada</td>\n      <td>6115</td>\n    </tr>\n    <tr>\n      <th>2</th>\n      <td>0060973129</td>\n      <td>Decision in Normandy</td>\n      <td>Carlo D'Este</td>\n      <td>1991</td>\n      <td>HarperPerennial</td>\n      <td>-1</td>\n    </tr>\n    <tr>\n      <th>3</th>\n      <td>0374157065</td>\n      <td>Flu: The Story of the Great Influenza Pandemic...</td>\n      <td>Gina Bari Kolata</td>\n      <td>1999</td>\n      <td>Farrar Straus Giroux</td>\n      <td>4277</td>\n    </tr>\n    <tr>\n      <th>4</th>\n      <td>0393045218</td>\n      <td>The Mummies of Urumchi</td>\n      <td>E. J. W. Barber</td>\n      <td>1999</td>\n      <td>W. W. Norton &amp;amp; Company</td>\n      <td>1786</td>\n    </tr>\n  </tbody>\n</table>\n</div>"
     },
     "execution_count": 18,
     "metadata": {},
     "output_type": "execute_result"
    }
   ],
   "source": [
    "df.drop(columns=['index'], inplace=True)\n",
    "df.head()"
   ],
   "metadata": {
    "collapsed": false,
    "ExecuteTime": {
     "end_time": "2024-06-08T20:09:11.781753200Z",
     "start_time": "2024-06-08T20:09:11.740942Z"
    }
   },
   "id": "b2aab2573627119a"
  },
  {
   "cell_type": "code",
   "execution_count": 19,
   "outputs": [],
   "source": [
    "df.to_csv('./dataset.csv', index=False)"
   ],
   "metadata": {
    "collapsed": false,
    "ExecuteTime": {
     "end_time": "2024-06-08T20:09:16.340231900Z",
     "start_time": "2024-06-08T20:09:15.846822800Z"
    }
   },
   "id": "1de694eec32254d1"
  }
 ],
 "metadata": {
  "kernelspec": {
   "display_name": "Python 3",
   "language": "python",
   "name": "python3"
  },
  "language_info": {
   "codemirror_mode": {
    "name": "ipython",
    "version": 2
   },
   "file_extension": ".py",
   "mimetype": "text/x-python",
   "name": "python",
   "nbconvert_exporter": "python",
   "pygments_lexer": "ipython2",
   "version": "2.7.6"
  }
 },
 "nbformat": 4,
 "nbformat_minor": 5
}
